{
  "nbformat": 4,
  "nbformat_minor": 0,
  "metadata": {
    "colab": {
      "provenance": [],
      "authorship_tag": "ABX9TyMnsKxE/vUILNPm4Cx4nNuW"
    },
    "kernelspec": {
      "name": "python3",
      "display_name": "Python 3"
    },
    "language_info": {
      "name": "python"
    }
  },
  "cells": [
    {
      "cell_type": "code",
      "execution_count": null,
      "metadata": {
        "id": "1vnDjDMOIL7a"
      },
      "outputs": [],
      "source": [
        "import os\n",
        "import glob\n",
        "from tqdm import tqdm\n",
        "import pandas as pd\n",
        "import numpy as np\n",
        "import matplotlib.pyplot as plt\n",
        "from scipy.io import wavfile\n",
        "from python_speech_features import mfcc , logfbank\n",
        "import librosa as lr\n",
        "import  pickle\n",
        "import librosa\n",
        "from scipy import signal\n",
        "from glob import glob\n",
        "import librosa\n",
        "import soundfile\n",
        "get_ipython().magic('matplotlib inline')\n",
        "from sklearn.model_selection import train_test_split\n",
        "from sklearn.neural_network import MLPClassifier\n",
        "from sklearn.metrics import accuracy_score"
      ]
    },
    {
      "cell_type": "code",
      "source": [
        "#Loading the required RAVDESS DataSet with length of 1439 Audio Files\n",
        "os.listdir(path='/content/drive/MyDrive/Colab Notebooks/archive/audio_speech_actors_01-24')\n",
        "def getListOfFiles(dirName):\n",
        "    listOfFile=os.listdir(dirName)\n",
        "    allFiles=list()\n",
        "    for entry in listOfFile:\n",
        "        fullPath=os.path.join(dirName, entry)\n",
        "        if os.path.isdir(fullPath):\n",
        "            allFiles=allFiles + getListOfFiles(fullPath)\n",
        "        else:\n",
        "            allFiles.append(fullPath)\n",
        "    return allFiles\n",
        "\n",
        "dirName = '/content/drive/MyDrive/Colab Notebooks/archive/audio_speech_actors_01-24'\n",
        "listOfFiles = getListOfFiles(dirName)\n",
        "print(len(listOfFiles))\n",
        "print(listOfFiles)"
      ],
      "metadata": {
        "id": "GscitxanISPG"
      },
      "execution_count": null,
      "outputs": []
    },
    {
      "cell_type": "code",
      "source": [
        "#Now Cleaning Step is Performed where:\n",
        "#DOWN SAMPLING OF AUDIO FILES IS DONE  AND PUT MASK OVER IT AND DIRECT INTO CLEAN FOLDER\n",
        "#MASK IS TO REMOVE UNNECESSARY EMPTY VOIVES AROUND THE MAIN AUDIO VOICE\n",
        "def envelope(y , rate, threshold):\n",
        "    mask=[]\n",
        "    y=pd.Series(y).apply(np.abs)\n",
        "    y_mean = y.rolling(window=int(rate/10) ,  min_periods=1 , center = True).mean()\n",
        "    for mean in y_mean:\n",
        "        if mean>threshold:\n",
        "            mask.append(True)\n",
        "        else:\n",
        "            mask.append(False)\n",
        "    return mask"
      ],
      "metadata": {
        "id": "oAKPKpVrIUwN"
      },
      "execution_count": null,
      "outputs": []
    },
    {
      "cell_type": "code",
      "source": [
        "#Plotting the Basic Graphs for understanding of Audio Files :\n",
        "for file in range(0 , len(listOfFiles) , 1):\n",
        "    audio , sfreq = lr.load(listOfFiles[file])\n",
        "    time = np.arange(0 , len(audio)) / sfreq\n",
        "\n",
        "    fig ,ax = plt.subplots()\n",
        "    ax.plot(time , audio)\n",
        "    ax.set(xlabel = 'Time (s)' , ylabel = 'Sound Amplitude')\n",
        "    plt.show()\n",
        "    break\n"
      ],
      "metadata": {
        "id": "Hi8ITSL7IYOe"
      },
      "execution_count": null,
      "outputs": []
    },
    {
      "cell_type": "code",
      "source": [
        "#PLOT THE SEPCTOGRAM\n",
        "for file in range(0 , len(listOfFiles) , 1):\n",
        "     sample_rate , samples = wavfile.read(listOfFiles[file])\n",
        "     frequencies , times, spectrogram = signal.spectrogram(samples, sample_rate)\n",
        "     plt.pcolormesh(times, frequencies, spectrogram)\n",
        "     plt.imshow(spectrogram)\n",
        "     plt.ylabel('Frequency [Hz]')\n",
        "     plt.xlabel('Time [sec]')\n",
        "     plt.show()\n",
        "     break"
      ],
      "metadata": {
        "id": "EBGaiEopIZCf"
      },
      "execution_count": null,
      "outputs": []
    },
    {
      "cell_type": "code",
      "source": [
        "#Double-masking\n",
        "def envelope(y , rate, threshold):\n",
        "    mask=[]\n",
        "    y=pd.Series(y).apply(np.abs)\n",
        "    y_mean = y.rolling(window=int(rate/10) ,  min_periods=1 , center = True).mean()\n",
        "    for mean in y_mean:\n",
        "        if mean>threshold:\n",
        "            mask.append(True)\n",
        "        else:\n",
        "            mask.append(False)\n",
        "    return mask"
      ],
      "metadata": {
        "id": "hI9ZuDb4IdI_"
      },
      "execution_count": null,
      "outputs": []
    },
    {
      "cell_type": "code",
      "source": [
        "#The clean Audio Files are redirected to Clean Audio Folder Directory\n",
        "import glob,pickle\n",
        "for file in tqdm(glob.glob(r'/content/drive/MyDrive/Colab Notebooks/archive/audio_speech_actors_01-24//**//*.wav')):\n",
        "    file_name = os.path.basename(file)\n",
        "    signal , rate = librosa.load(file, sr=16000)\n",
        "    mask = envelope(signal,rate, 0.0005)\n",
        "    wavfile.write(filename= r'/content/drive/MyDrive/Project_cleanedData/Cleaned_REVDESS//'+str(file_name), rate=rate,data=signal[mask])"
      ],
      "metadata": {
        "id": "yukl8gNMIeUE"
      },
      "execution_count": null,
      "outputs": []
    },
    {
      "cell_type": "code",
      "source": [
        "myList = os.listdir('/content/drive/MyDrive/Project_cleanedData/Cleaned_REVDESS')\n",
        "print(len(myList))\n",
        "print(myList)"
      ],
      "metadata": {
        "id": "E3UMbEsTIhT6"
      },
      "execution_count": null,
      "outputs": []
    },
    {
      "cell_type": "code",
      "source": [
        "#Feature Extraction of Audio Files Function\n",
        "#Extract features (mfcc, chroma, mel) from a sound file\n",
        "def extract_feature(file_name, mfcc, chroma, mel):\n",
        "    with soundfile.SoundFile(file_name) as sound_file:\n",
        "        X = sound_file.read(dtype=\"float32\")\n",
        "        sample_rate=sound_file.samplerate\n",
        "        if chroma:\n",
        "            stft=np.abs(librosa.stft(X))\n",
        "        result=np.array([])\n",
        "        if mfcc:\n",
        "            mfccs=np.mean(librosa.feature.mfcc(y=X, sr=sample_rate, n_mfcc=40).T, axis=0)\n",
        "        result=np.hstack((result, mfccs))\n",
        "        if chroma:\n",
        "            chroma=np.mean(librosa.feature.chroma_stft(S=stft, sr=sample_rate).T,axis=0)\n",
        "        result=np.hstack((result, chroma))\n",
        "        if mel:\n",
        "            mel=np.mean(librosa.feature.melspectrogram(y=X, sr=sample_rate).T,axis=0)\n",
        "        result=np.hstack((result, mel))\n",
        "    return result"
      ],
      "metadata": {
        "id": "OCOwJ7mNIk5A"
      },
      "execution_count": null,
      "outputs": []
    },
    {
      "cell_type": "code",
      "source": [
        "#Emotions in the RAVDESS dataset to be classified Audio Files based on .\n",
        "emotions={\n",
        "  '01':'neutral',\n",
        "  '02':'calm',\n",
        "  '03':'happy',\n",
        "  '04':'sad',\n",
        "  '05':'angry',\n",
        "  '06':'fearful',\n",
        "  '07':'disgust',\n",
        "  '08':'surprised'\n",
        "}\n",
        "#These are the emotions User wants to observe more :\n",
        "observed_emotions=['calm', 'happy', 'fearful', 'disgust']"
      ],
      "metadata": {
        "id": "Zk5visscInXs"
      },
      "execution_count": null,
      "outputs": []
    },
    {
      "cell_type": "code",
      "source": [
        "#Load the data and extract features for each sound file\n",
        "from glob import glob\n",
        "import os\n",
        "import glob\n",
        "def load_data(test_size=0.33):\n",
        "    x,y=[],[]\n",
        "    answer = 0\n",
        "    for file in glob.glob(r'/content/drive/MyDrive/Project_cleanedData/Cleaned_REVDESS//*.wav'):\n",
        "        file_name=os.path.basename(file)\n",
        "        emotion=emotions[file_name.split(\"-\")[2]]\n",
        "        if emotion not in observed_emotions:\n",
        "            answer += 1\n",
        "            continue\n",
        "        feature=extract_feature(file, mfcc=True, chroma=True, mel=True)\n",
        "        x.append(feature)\n",
        "        y.append([emotion,file_name])\n",
        "    return train_test_split(np.array(x), y, test_size=test_size, random_state=9)"
      ],
      "metadata": {
        "id": "7B3Bv3bhIoGV"
      },
      "execution_count": null,
      "outputs": []
    },
    {
      "cell_type": "code",
      "source": [
        "#Split the dataset\n",
        "import librosa\n",
        "import numpy as np\n",
        "x_train,x_test,y_trai,y_tes=load_data(test_size=0.25)\n",
        "print(np.shape(x_train),np.shape(x_test), np.shape(y_trai),np.shape(y_tes))\n",
        "y_test_map = np.array(y_tes).T\n",
        "y_test = y_test_map[0]\n",
        "test_filename = y_test_map[1]\n",
        "y_train_map = np.array(y_trai).T\n",
        "y_train = y_train_map[0]\n",
        "train_filename = y_train_map[1]\n",
        "print(np.shape(y_train),np.shape(y_test))\n",
        "print(*test_filename,sep=\"\\n\")"
      ],
      "metadata": {
        "id": "1bFRq6ueIqzu"
      },
      "execution_count": null,
      "outputs": []
    },
    {
      "cell_type": "code",
      "source": [
        "print(\"Training set shape:\", x_train.shape)\n",
        "print(\"Testing set shape:\", x_test.shape)\n",
        "print(\"Features extracted:\", x_train.shape[1])"
      ],
      "metadata": {
        "id": "LlQl2j86Iu1E"
      },
      "execution_count": null,
      "outputs": []
    },
    {
      "cell_type": "code",
      "source": [
        "#Get the shape of the training and testing datasets\n",
        "# print((x_train.shape[0], x_test.shape[0]))\n",
        "print((x_train[0], x_test[0]))"
      ],
      "metadata": {
        "id": "YNUdb07KIxT_"
      },
      "execution_count": null,
      "outputs": []
    },
    {
      "cell_type": "code",
      "source": [
        "# Initialize the Multi Layer Perceptron Classifier\n",
        "\n",
        "model = MLPClassifier(alpha=0.01, batch_size=256, epsilon=1e-08, hidden_layer_sizes=(300,), learning_rate='adaptive', max_iter=500)"
      ],
      "metadata": {
        "id": "_3jHIKDKIyMF"
      },
      "execution_count": null,
      "outputs": []
    },
    {
      "cell_type": "code",
      "source": [
        "#Train the model\n",
        "print(\"[*] Training the model...\")\n",
        "model.fit(x_train,y_train)"
      ],
      "metadata": {
        "id": "Ur9PAxXRI1aO"
      },
      "execution_count": null,
      "outputs": []
    },
    {
      "cell_type": "code",
      "source": [
        "y_pred=model.predict(x_test)\n",
        "y_pred"
      ],
      "metadata": {
        "id": "ZfXbfv57I7PN"
      },
      "execution_count": null,
      "outputs": []
    },
    {
      "cell_type": "code",
      "source": [
        "accuracy=accuracy_score(y_true=y_test, y_pred=y_pred)\n",
        "print(\"Accuracy: {:.2f}%\".format(accuracy*100))"
      ],
      "metadata": {
        "id": "Ev3kuj_wI9dm"
      },
      "execution_count": null,
      "outputs": []
    },
    {
      "cell_type": "code",
      "source": [
        "#Store the Prediction probabilities into CSV file\n",
        "import numpy as np\n",
        "import pandas as pd\n",
        "y_pred1 = pd.DataFrame(y_pred, columns=['predictions'])\n",
        "y_pred1['file_names'] = test_filename\n",
        "print(y_pred1)\n",
        "y_pred1.to_csv('predictionfinal.csv')"
      ],
      "metadata": {
        "id": "jWhPE6m5JA2U"
      },
      "execution_count": null,
      "outputs": []
    },
    {
      "cell_type": "code",
      "source": [
        "df=pd.DataFrame({'Actual': y_test, 'Predicted':y_pred})\n",
        "df.head()"
      ],
      "metadata": {
        "id": "nO8ISRomJJa8"
      },
      "execution_count": null,
      "outputs": []
    }
  ]
}