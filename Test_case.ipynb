{
  "nbformat": 4,
  "nbformat_minor": 0,
  "metadata": {
    "colab": {
      "provenance": [],
      "authorship_tag": "ABX9TyP/LWdUN6gwye9Y44FMhU3o"
    },
    "kernelspec": {
      "name": "python3",
      "display_name": "Python 3"
    },
    "language_info": {
      "name": "python"
    }
  },
  "cells": [
    {
      "cell_type": "code",
      "execution_count": null,
      "metadata": {
        "id": "5QLWJUPRHy-k"
      },
      "outputs": [],
      "source": [
        "'''TEST CASE -01 '''\n",
        "\n",
        "input_file = \"/content/drive/MyDrive/TESS Toronto emotional speech set data/OAF_happy/OAF_back_happy.wav\"\n",
        "ans , sr = librosa.core.load(input_file)\n",
        "new_feature = extract_feature(input_file , mfcc=True, chroma=True, mel=True)\n",
        "ans =[]\n",
        "ans.append(new_feature)\n",
        "ans = np.array(ans)\n",
        "\n",
        "z_pred = Emotion_Voice_Detection_Model.predict(ans)\n",
        "print(\"PREDICTED EMOTION OF INPUT IS:\",z_pred)\n",
        "print(\"--------GRAPH--------\")\n",
        "print()\n",
        "graph,sampling_rate =  librosa.load(input_file)\n",
        "plt.figure(figsize=(15, 5))\n",
        "librosa.display.waveshow(graph,sr=sampling_rate )"
      ]
    },
    {
      "cell_type": "code",
      "source": [
        "'''TEST CASE-02'''\n",
        "\n",
        "input_file = \"/content/drive/MyDrive/TESS Toronto emotional speech set data/YAF_angry/YAF_dead_angry.wav\"\n",
        "ans , sr = librosa.core.load(input_file)\n",
        "new_feature = extract_feature(input_file , mfcc=True, chroma=True, mel=True)\n",
        "ans =[]\n",
        "ans.append(new_feature)\n",
        "ans = np.array(ans)\n",
        "\n",
        "z_pred = Emotion_Voice_Detection_Model.predict(ans)\n",
        "print(\"PREDICTED EMOTION OF INPUT IS:\",z_pred)\n",
        "print(\"--------GRAPH--------\")\n",
        "print()\n",
        "graph,sampling_rate =  librosa.load(input_file)\n",
        "plt.figure(figsize=(15, 5))\n",
        "librosa.display.waveshow(graph,sr=sampling_rate )"
      ],
      "metadata": {
        "id": "MlmGrn7-H0TQ"
      },
      "execution_count": null,
      "outputs": []
    },
    {
      "cell_type": "code",
      "source": [],
      "metadata": {
        "id": "vX8JWq69H3mF"
      },
      "execution_count": null,
      "outputs": []
    }
  ]
}