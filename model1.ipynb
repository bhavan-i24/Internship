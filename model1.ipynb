{
  "nbformat": 4,
  "nbformat_minor": 0,
  "metadata": {
    "colab": {
      "provenance": [],
      "authorship_tag": "ABX9TyOhAbG8Ti6XrANhd7QwMXmA"
    },
    "kernelspec": {
      "name": "python3",
      "display_name": "Python 3"
    },
    "language_info": {
      "name": "python"
    }
  },
  "cells": [
    {
      "cell_type": "code",
      "source": [
        "#SAVING THE MODEL\n",
        "import pickle\n",
        "# Save the Modle to file in the current working directory\n",
        "#For any new testing data other than the data in dataset\n",
        "\n",
        "Pkl_Filename = \"Emotion_Voice_Detection_Model.pkl\"\n",
        "\n",
        "with open(Pkl_Filename, 'wb') as file:\n",
        "    pickle.dump(model, file)"
      ],
      "metadata": {
        "id": "KZTnhKD1Hb-i"
      },
      "execution_count": null,
      "outputs": []
    },
    {
      "cell_type": "code",
      "source": [
        "# Load the Model back from file\n",
        "with open(Pkl_Filename, 'rb') as file:\n",
        "    Emotion_Voice_Detection_Model = pickle.load(file)\n",
        "\n",
        "Emotion_Voice_Detection_Model"
      ],
      "metadata": {
        "id": "eRocpPWJHcyG"
      },
      "execution_count": null,
      "outputs": []
    },
    {
      "cell_type": "code",
      "source": [
        "from sklearn.metrics import classification_report\n",
        "print(classification_report(y_test,y_pred))"
      ],
      "metadata": {
        "id": "YTPZVogcHgAG"
      },
      "execution_count": null,
      "outputs": []
    },
    {
      "cell_type": "code",
      "source": [
        "from sklearn.metrics import confusion_matrix\n",
        "print(confusion_matrix(y_test,y_pred))"
      ],
      "metadata": {
        "id": "8VcM3SYKHiSF"
      },
      "execution_count": null,
      "outputs": []
    }
  ]
}